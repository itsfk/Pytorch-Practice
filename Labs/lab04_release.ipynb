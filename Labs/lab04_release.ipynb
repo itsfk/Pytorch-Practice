{
  "nbformat": 4,
  "nbformat_minor": 0,
  "metadata": {
    "colab": {
      "name": "lab04_release.ipynb",
      "provenance": [],
      "collapsed_sections": [],
      "toc_visible": true
    },
    "kernelspec": {
      "name": "python3",
      "display_name": "Python 3"
    },
    "accelerator": "GPU",
    "widgets": {
      "application/vnd.jupyter.widget-state+json": {
        "871004aa13eb4b05a56bcde07a5663bc": {
          "model_module": "@jupyter-widgets/controls",
          "model_name": "HBoxModel",
          "state": {
            "_view_name": "HBoxView",
            "_dom_classes": [],
            "_model_name": "HBoxModel",
            "_view_module": "@jupyter-widgets/controls",
            "_model_module_version": "1.5.0",
            "_view_count": null,
            "_view_module_version": "1.5.0",
            "box_style": "",
            "layout": "IPY_MODEL_ab359fda44de4eafa3108db68d21df26",
            "_model_module": "@jupyter-widgets/controls",
            "children": [
              "IPY_MODEL_342e858ed43344519db30b493181e2d9",
              "IPY_MODEL_88a0cba8150845d0a9681a592b6d5ee2"
            ]
          }
        },
        "ab359fda44de4eafa3108db68d21df26": {
          "model_module": "@jupyter-widgets/base",
          "model_name": "LayoutModel",
          "state": {
            "_view_name": "LayoutView",
            "grid_template_rows": null,
            "right": null,
            "justify_content": null,
            "_view_module": "@jupyter-widgets/base",
            "overflow": null,
            "_model_module_version": "1.2.0",
            "_view_count": null,
            "flex_flow": null,
            "width": null,
            "min_width": null,
            "border": null,
            "align_items": null,
            "bottom": null,
            "_model_module": "@jupyter-widgets/base",
            "top": null,
            "grid_column": null,
            "overflow_y": null,
            "overflow_x": null,
            "grid_auto_flow": null,
            "grid_area": null,
            "grid_template_columns": null,
            "flex": null,
            "_model_name": "LayoutModel",
            "justify_items": null,
            "grid_row": null,
            "max_height": null,
            "align_content": null,
            "visibility": null,
            "align_self": null,
            "height": null,
            "min_height": null,
            "padding": null,
            "grid_auto_rows": null,
            "grid_gap": null,
            "max_width": null,
            "order": null,
            "_view_module_version": "1.2.0",
            "grid_template_areas": null,
            "object_position": null,
            "object_fit": null,
            "grid_auto_columns": null,
            "margin": null,
            "display": null,
            "left": null
          }
        },
        "342e858ed43344519db30b493181e2d9": {
          "model_module": "@jupyter-widgets/controls",
          "model_name": "FloatProgressModel",
          "state": {
            "_view_name": "ProgressView",
            "style": "IPY_MODEL_be8559d8a9f6495ea025de683beda94f",
            "_dom_classes": [],
            "description": "100%",
            "_model_name": "FloatProgressModel",
            "bar_style": "success",
            "max": 10,
            "_view_module": "@jupyter-widgets/controls",
            "_model_module_version": "1.5.0",
            "value": 10,
            "_view_count": null,
            "_view_module_version": "1.5.0",
            "orientation": "horizontal",
            "min": 0,
            "description_tooltip": null,
            "_model_module": "@jupyter-widgets/controls",
            "layout": "IPY_MODEL_948730672fc24d369e28b4321c761fa7"
          }
        },
        "88a0cba8150845d0a9681a592b6d5ee2": {
          "model_module": "@jupyter-widgets/controls",
          "model_name": "HTMLModel",
          "state": {
            "_view_name": "HTMLView",
            "style": "IPY_MODEL_f966fbf0b2894f31a075b6eab7f0447e",
            "_dom_classes": [],
            "description": "",
            "_model_name": "HTMLModel",
            "placeholder": "​",
            "_view_module": "@jupyter-widgets/controls",
            "_model_module_version": "1.5.0",
            "value": " 10/10 [03:32&lt;00:00, 21.27s/it]",
            "_view_count": null,
            "_view_module_version": "1.5.0",
            "description_tooltip": null,
            "_model_module": "@jupyter-widgets/controls",
            "layout": "IPY_MODEL_5c3bc724496f469eabb51889853c4905"
          }
        },
        "be8559d8a9f6495ea025de683beda94f": {
          "model_module": "@jupyter-widgets/controls",
          "model_name": "ProgressStyleModel",
          "state": {
            "_view_name": "StyleView",
            "_model_name": "ProgressStyleModel",
            "description_width": "initial",
            "_view_module": "@jupyter-widgets/base",
            "_model_module_version": "1.5.0",
            "_view_count": null,
            "_view_module_version": "1.2.0",
            "bar_color": null,
            "_model_module": "@jupyter-widgets/controls"
          }
        },
        "948730672fc24d369e28b4321c761fa7": {
          "model_module": "@jupyter-widgets/base",
          "model_name": "LayoutModel",
          "state": {
            "_view_name": "LayoutView",
            "grid_template_rows": null,
            "right": null,
            "justify_content": null,
            "_view_module": "@jupyter-widgets/base",
            "overflow": null,
            "_model_module_version": "1.2.0",
            "_view_count": null,
            "flex_flow": null,
            "width": null,
            "min_width": null,
            "border": null,
            "align_items": null,
            "bottom": null,
            "_model_module": "@jupyter-widgets/base",
            "top": null,
            "grid_column": null,
            "overflow_y": null,
            "overflow_x": null,
            "grid_auto_flow": null,
            "grid_area": null,
            "grid_template_columns": null,
            "flex": null,
            "_model_name": "LayoutModel",
            "justify_items": null,
            "grid_row": null,
            "max_height": null,
            "align_content": null,
            "visibility": null,
            "align_self": null,
            "height": null,
            "min_height": null,
            "padding": null,
            "grid_auto_rows": null,
            "grid_gap": null,
            "max_width": null,
            "order": null,
            "_view_module_version": "1.2.0",
            "grid_template_areas": null,
            "object_position": null,
            "object_fit": null,
            "grid_auto_columns": null,
            "margin": null,
            "display": null,
            "left": null
          }
        },
        "f966fbf0b2894f31a075b6eab7f0447e": {
          "model_module": "@jupyter-widgets/controls",
          "model_name": "DescriptionStyleModel",
          "state": {
            "_view_name": "StyleView",
            "_model_name": "DescriptionStyleModel",
            "description_width": "",
            "_view_module": "@jupyter-widgets/base",
            "_model_module_version": "1.5.0",
            "_view_count": null,
            "_view_module_version": "1.2.0",
            "_model_module": "@jupyter-widgets/controls"
          }
        },
        "5c3bc724496f469eabb51889853c4905": {
          "model_module": "@jupyter-widgets/base",
          "model_name": "LayoutModel",
          "state": {
            "_view_name": "LayoutView",
            "grid_template_rows": null,
            "right": null,
            "justify_content": null,
            "_view_module": "@jupyter-widgets/base",
            "overflow": null,
            "_model_module_version": "1.2.0",
            "_view_count": null,
            "flex_flow": null,
            "width": null,
            "min_width": null,
            "border": null,
            "align_items": null,
            "bottom": null,
            "_model_module": "@jupyter-widgets/base",
            "top": null,
            "grid_column": null,
            "overflow_y": null,
            "overflow_x": null,
            "grid_auto_flow": null,
            "grid_area": null,
            "grid_template_columns": null,
            "flex": null,
            "_model_name": "LayoutModel",
            "justify_items": null,
            "grid_row": null,
            "max_height": null,
            "align_content": null,
            "visibility": null,
            "align_self": null,
            "height": null,
            "min_height": null,
            "padding": null,
            "grid_auto_rows": null,
            "grid_gap": null,
            "max_width": null,
            "order": null,
            "_view_module_version": "1.2.0",
            "grid_template_areas": null,
            "object_position": null,
            "object_fit": null,
            "grid_auto_columns": null,
            "margin": null,
            "display": null,
            "left": null
          }
        },
        "f352653ec508406a80c262f42ea05e23": {
          "model_module": "@jupyter-widgets/controls",
          "model_name": "HBoxModel",
          "state": {
            "_view_name": "HBoxView",
            "_dom_classes": [],
            "_model_name": "HBoxModel",
            "_view_module": "@jupyter-widgets/controls",
            "_model_module_version": "1.5.0",
            "_view_count": null,
            "_view_module_version": "1.5.0",
            "box_style": "",
            "layout": "IPY_MODEL_da9934e121a248f5933778b6dd0a31d9",
            "_model_module": "@jupyter-widgets/controls",
            "children": [
              "IPY_MODEL_7d0f6952c2014e73a1a855acad2ba0ee",
              "IPY_MODEL_ac4a02d7ab0c4bc0a6f9399ac5c55b70"
            ]
          }
        },
        "da9934e121a248f5933778b6dd0a31d9": {
          "model_module": "@jupyter-widgets/base",
          "model_name": "LayoutModel",
          "state": {
            "_view_name": "LayoutView",
            "grid_template_rows": null,
            "right": null,
            "justify_content": null,
            "_view_module": "@jupyter-widgets/base",
            "overflow": null,
            "_model_module_version": "1.2.0",
            "_view_count": null,
            "flex_flow": null,
            "width": null,
            "min_width": null,
            "border": null,
            "align_items": null,
            "bottom": null,
            "_model_module": "@jupyter-widgets/base",
            "top": null,
            "grid_column": null,
            "overflow_y": null,
            "overflow_x": null,
            "grid_auto_flow": null,
            "grid_area": null,
            "grid_template_columns": null,
            "flex": null,
            "_model_name": "LayoutModel",
            "justify_items": null,
            "grid_row": null,
            "max_height": null,
            "align_content": null,
            "visibility": null,
            "align_self": null,
            "height": null,
            "min_height": null,
            "padding": null,
            "grid_auto_rows": null,
            "grid_gap": null,
            "max_width": null,
            "order": null,
            "_view_module_version": "1.2.0",
            "grid_template_areas": null,
            "object_position": null,
            "object_fit": null,
            "grid_auto_columns": null,
            "margin": null,
            "display": null,
            "left": null
          }
        },
        "7d0f6952c2014e73a1a855acad2ba0ee": {
          "model_module": "@jupyter-widgets/controls",
          "model_name": "FloatProgressModel",
          "state": {
            "_view_name": "ProgressView",
            "style": "IPY_MODEL_525e7fe7282747a998fa09cce6cb6f22",
            "_dom_classes": [],
            "description": "100%",
            "_model_name": "FloatProgressModel",
            "bar_style": "success",
            "max": 1000,
            "_view_module": "@jupyter-widgets/controls",
            "_model_module_version": "1.5.0",
            "value": 1000,
            "_view_count": null,
            "_view_module_version": "1.5.0",
            "orientation": "horizontal",
            "min": 0,
            "description_tooltip": null,
            "_model_module": "@jupyter-widgets/controls",
            "layout": "IPY_MODEL_cb78c41f23cd4e6e88da4d86b784a547"
          }
        },
        "ac4a02d7ab0c4bc0a6f9399ac5c55b70": {
          "model_module": "@jupyter-widgets/controls",
          "model_name": "HTMLModel",
          "state": {
            "_view_name": "HTMLView",
            "style": "IPY_MODEL_a7c49cd973f54f5aae969fd86d9889d3",
            "_dom_classes": [],
            "description": "",
            "_model_name": "HTMLModel",
            "placeholder": "​",
            "_view_module": "@jupyter-widgets/controls",
            "_model_module_version": "1.5.0",
            "value": " 1000/1000 [01:58&lt;00:00,  8.47it/s]",
            "_view_count": null,
            "_view_module_version": "1.5.0",
            "description_tooltip": null,
            "_model_module": "@jupyter-widgets/controls",
            "layout": "IPY_MODEL_3b40567def634a4d83cbcd46f292d6d5"
          }
        },
        "525e7fe7282747a998fa09cce6cb6f22": {
          "model_module": "@jupyter-widgets/controls",
          "model_name": "ProgressStyleModel",
          "state": {
            "_view_name": "StyleView",
            "_model_name": "ProgressStyleModel",
            "description_width": "initial",
            "_view_module": "@jupyter-widgets/base",
            "_model_module_version": "1.5.0",
            "_view_count": null,
            "_view_module_version": "1.2.0",
            "bar_color": null,
            "_model_module": "@jupyter-widgets/controls"
          }
        },
        "cb78c41f23cd4e6e88da4d86b784a547": {
          "model_module": "@jupyter-widgets/base",
          "model_name": "LayoutModel",
          "state": {
            "_view_name": "LayoutView",
            "grid_template_rows": null,
            "right": null,
            "justify_content": null,
            "_view_module": "@jupyter-widgets/base",
            "overflow": null,
            "_model_module_version": "1.2.0",
            "_view_count": null,
            "flex_flow": null,
            "width": null,
            "min_width": null,
            "border": null,
            "align_items": null,
            "bottom": null,
            "_model_module": "@jupyter-widgets/base",
            "top": null,
            "grid_column": null,
            "overflow_y": null,
            "overflow_x": null,
            "grid_auto_flow": null,
            "grid_area": null,
            "grid_template_columns": null,
            "flex": null,
            "_model_name": "LayoutModel",
            "justify_items": null,
            "grid_row": null,
            "max_height": null,
            "align_content": null,
            "visibility": null,
            "align_self": null,
            "height": null,
            "min_height": null,
            "padding": null,
            "grid_auto_rows": null,
            "grid_gap": null,
            "max_width": null,
            "order": null,
            "_view_module_version": "1.2.0",
            "grid_template_areas": null,
            "object_position": null,
            "object_fit": null,
            "grid_auto_columns": null,
            "margin": null,
            "display": null,
            "left": null
          }
        },
        "a7c49cd973f54f5aae969fd86d9889d3": {
          "model_module": "@jupyter-widgets/controls",
          "model_name": "DescriptionStyleModel",
          "state": {
            "_view_name": "StyleView",
            "_model_name": "DescriptionStyleModel",
            "description_width": "",
            "_view_module": "@jupyter-widgets/base",
            "_model_module_version": "1.5.0",
            "_view_count": null,
            "_view_module_version": "1.2.0",
            "_model_module": "@jupyter-widgets/controls"
          }
        },
        "3b40567def634a4d83cbcd46f292d6d5": {
          "model_module": "@jupyter-widgets/base",
          "model_name": "LayoutModel",
          "state": {
            "_view_name": "LayoutView",
            "grid_template_rows": null,
            "right": null,
            "justify_content": null,
            "_view_module": "@jupyter-widgets/base",
            "overflow": null,
            "_model_module_version": "1.2.0",
            "_view_count": null,
            "flex_flow": null,
            "width": null,
            "min_width": null,
            "border": null,
            "align_items": null,
            "bottom": null,
            "_model_module": "@jupyter-widgets/base",
            "top": null,
            "grid_column": null,
            "overflow_y": null,
            "overflow_x": null,
            "grid_auto_flow": null,
            "grid_area": null,
            "grid_template_columns": null,
            "flex": null,
            "_model_name": "LayoutModel",
            "justify_items": null,
            "grid_row": null,
            "max_height": null,
            "align_content": null,
            "visibility": null,
            "align_self": null,
            "height": null,
            "min_height": null,
            "padding": null,
            "grid_auto_rows": null,
            "grid_gap": null,
            "max_width": null,
            "order": null,
            "_view_module_version": "1.2.0",
            "grid_template_areas": null,
            "object_position": null,
            "object_fit": null,
            "grid_auto_columns": null,
            "margin": null,
            "display": null,
            "left": null
          }
        }
      }
    }
  },
  "cells": [
    {
      "cell_type": "markdown",
      "metadata": {
        "id": "0lAszzUtMGKS"
      },
      "source": [
        "# Lab 4 - Debugging Neural Networks\n",
        "\n",
        "In this notebook we'll take a look at some common issues encountered when building and training neural networks. As a lot of the code has been written for you, work slowly through the notebook, reading along the way - there are some important information!"
      ]
    },
    {
      "cell_type": "markdown",
      "metadata": {
        "id": "mdocimy3CAuL"
      },
      "source": [
        "## Data Normalisation\n",
        "\n",
        "In this exercise we'll take a look at a form of [normalisation](https://en.wikipedia.org/wiki/Normalization_(statistics)) and how it can aide the training of neural networks (and other optimisation techniques, for that matter). As mentioned in the lectures, neural networks are most stable when the inputs and outputs have values near zero, with a standard deviation of approximately 1. Let's see what this looks like in practice.\n",
        "\n",
        "We will demonstrate the importance of normalization using an interesting forecast prediction dataset. In this dataset we will use cartographic variables of small regions of forest (30m x 30m) to predict the type of forecast cover in each region. Example cover types include: spruce/fir (type 1), lodgepole pine (type 2), etc.\n",
        "\n",
        "You can get more information about the data from this link.\n",
        "https://archive.ics.uci.edu/ml/datasets/covertype\n",
        "\n",
        "There is also a kaggle competition for this dataset:\n",
        "https://www.kaggle.com/c/forest-cover-type-prediction/overview\n",
        "\n",
        "According to the kaggle competition the best team got an accuracy of 100% on the test set! \n"
      ]
    },
    {
      "cell_type": "code",
      "metadata": {
        "id": "BLyNJBZIkkru",
        "colab": {
          "base_uri": "https://localhost:8080/"
        },
        "outputId": "b5449975-6d64-4319-da35-2205d5601f19"
      },
      "source": [
        "# Quickly set up our device\n",
        "import torch\n",
        "import torch.nn as nn\n",
        "import numpy as np\n",
        "device = torch.device(\"cpu\")\n",
        "if torch.cuda.is_available():\n",
        "    device = torch.device(\"cuda:0\")\n",
        "    torch.cuda.set_device(device)\n",
        "print(\"Training on\", device)"
      ],
      "execution_count": 10,
      "outputs": [
        {
          "output_type": "stream",
          "text": [
            "Training on cuda:0\n"
          ],
          "name": "stdout"
        }
      ]
    },
    {
      "cell_type": "markdown",
      "metadata": {
        "id": "QK6ca8tVulaf"
      },
      "source": [
        "Here is the code we use to load the data into a pandas dataframe."
      ]
    },
    {
      "cell_type": "code",
      "metadata": {
        "id": "tGjSlxSFcYKy"
      },
      "source": [
        "import pandas as pd\n",
        "\n",
        "# Read the data from csv file\n",
        "cover_type_df = pd.read_csv('https://github.com/zhenhe1/datasets/raw/5852941fa9cd21326d3f7277d971e46e48ea2714/covtype_dataset.zip')\n"
      ],
      "execution_count": 11,
      "outputs": []
    },
    {
      "cell_type": "markdown",
      "metadata": {
        "id": "OaSY9go5uso2"
      },
      "source": [
        "Lets take a look at the data using the next cell. Each row of the data contains the data for one small 30m x 30m region of the forest. You will notice the cartographic variables include things like elevation, aspect, slope, soil types etc. You will notice that the soil type values are much smaller than elevation, aspect, hydrology measurements. This is a sign that normalization is needed. The reason is it will be hard for the neural network to balance taking really big numbers and really small numbers at the same time. This will cause a lot of skew in the distribution of neural network weights. In addition neural networks just want to take small number as input and mean of around zero. Lets first try to train a network without normalization and then add normalization and see what happens.\n"
      ]
    },
    {
      "cell_type": "code",
      "metadata": {
        "id": "r3lRrn6YcY4X",
        "colab": {
          "base_uri": "https://localhost:8080/",
          "height": 439
        },
        "outputId": "3942f682-0899-442f-e615-3ea0c875c4fb"
      },
      "source": [
        "cover_type_df"
      ],
      "execution_count": 12,
      "outputs": [
        {
          "output_type": "execute_result",
          "data": {
            "text/html": [
              "<div>\n",
              "<style scoped>\n",
              "    .dataframe tbody tr th:only-of-type {\n",
              "        vertical-align: middle;\n",
              "    }\n",
              "\n",
              "    .dataframe tbody tr th {\n",
              "        vertical-align: top;\n",
              "    }\n",
              "\n",
              "    .dataframe thead th {\n",
              "        text-align: right;\n",
              "    }\n",
              "</style>\n",
              "<table border=\"1\" class=\"dataframe\">\n",
              "  <thead>\n",
              "    <tr style=\"text-align: right;\">\n",
              "      <th></th>\n",
              "      <th>Elevation</th>\n",
              "      <th>Aspect</th>\n",
              "      <th>Slope</th>\n",
              "      <th>Horizontal_Distance_To_Hydrology</th>\n",
              "      <th>Vertical_Distance_To_Hydrology</th>\n",
              "      <th>Horizontal_Distance_To_Roadways</th>\n",
              "      <th>Hillshade_9am</th>\n",
              "      <th>Hillshade_Noon</th>\n",
              "      <th>Hillshade_3pm</th>\n",
              "      <th>Horizontal_Distance_To_Fire_Points</th>\n",
              "      <th>Wilderness_Area1</th>\n",
              "      <th>Wilderness_Area2</th>\n",
              "      <th>Wilderness_Area3</th>\n",
              "      <th>Wilderness_Area4</th>\n",
              "      <th>Soil_Type1</th>\n",
              "      <th>Soil_Type2</th>\n",
              "      <th>Soil_Type3</th>\n",
              "      <th>Soil_Type4</th>\n",
              "      <th>Soil_Type5</th>\n",
              "      <th>Soil_Type6</th>\n",
              "      <th>Soil_Type7</th>\n",
              "      <th>Soil_Type8</th>\n",
              "      <th>Soil_Type9</th>\n",
              "      <th>Soil_Type10</th>\n",
              "      <th>Soil_Type11</th>\n",
              "      <th>Soil_Type12</th>\n",
              "      <th>Soil_Type13</th>\n",
              "      <th>Soil_Type14</th>\n",
              "      <th>Soil_Type15</th>\n",
              "      <th>Soil_Type16</th>\n",
              "      <th>Soil_Type17</th>\n",
              "      <th>Soil_Type18</th>\n",
              "      <th>Soil_Type19</th>\n",
              "      <th>Soil_Type20</th>\n",
              "      <th>Soil_Type21</th>\n",
              "      <th>Soil_Type22</th>\n",
              "      <th>Soil_Type23</th>\n",
              "      <th>Soil_Type24</th>\n",
              "      <th>Soil_Type25</th>\n",
              "      <th>Soil_Type26</th>\n",
              "      <th>Soil_Type27</th>\n",
              "      <th>Soil_Type28</th>\n",
              "      <th>Soil_Type29</th>\n",
              "      <th>Soil_Type30</th>\n",
              "      <th>Soil_Type31</th>\n",
              "      <th>Soil_Type32</th>\n",
              "      <th>Soil_Type33</th>\n",
              "      <th>Soil_Type34</th>\n",
              "      <th>Soil_Type35</th>\n",
              "      <th>Soil_Type36</th>\n",
              "      <th>Soil_Type37</th>\n",
              "      <th>Soil_Type38</th>\n",
              "      <th>Soil_Type39</th>\n",
              "      <th>Soil_Type40</th>\n",
              "      <th>Cover_Type</th>\n",
              "    </tr>\n",
              "  </thead>\n",
              "  <tbody>\n",
              "    <tr>\n",
              "      <th>0</th>\n",
              "      <td>2596</td>\n",
              "      <td>51</td>\n",
              "      <td>3</td>\n",
              "      <td>258</td>\n",
              "      <td>0</td>\n",
              "      <td>510</td>\n",
              "      <td>221</td>\n",
              "      <td>232</td>\n",
              "      <td>148</td>\n",
              "      <td>6279</td>\n",
              "      <td>1</td>\n",
              "      <td>0</td>\n",
              "      <td>0</td>\n",
              "      <td>0</td>\n",
              "      <td>0</td>\n",
              "      <td>0</td>\n",
              "      <td>0</td>\n",
              "      <td>0</td>\n",
              "      <td>0</td>\n",
              "      <td>0</td>\n",
              "      <td>0</td>\n",
              "      <td>0</td>\n",
              "      <td>0</td>\n",
              "      <td>0</td>\n",
              "      <td>0</td>\n",
              "      <td>0</td>\n",
              "      <td>0</td>\n",
              "      <td>0</td>\n",
              "      <td>0</td>\n",
              "      <td>0</td>\n",
              "      <td>0</td>\n",
              "      <td>0</td>\n",
              "      <td>0</td>\n",
              "      <td>0</td>\n",
              "      <td>0</td>\n",
              "      <td>0</td>\n",
              "      <td>0</td>\n",
              "      <td>0</td>\n",
              "      <td>0</td>\n",
              "      <td>0</td>\n",
              "      <td>0</td>\n",
              "      <td>0</td>\n",
              "      <td>1</td>\n",
              "      <td>0</td>\n",
              "      <td>0</td>\n",
              "      <td>0</td>\n",
              "      <td>0</td>\n",
              "      <td>0</td>\n",
              "      <td>0</td>\n",
              "      <td>0</td>\n",
              "      <td>0</td>\n",
              "      <td>0</td>\n",
              "      <td>0</td>\n",
              "      <td>0</td>\n",
              "      <td>5</td>\n",
              "    </tr>\n",
              "    <tr>\n",
              "      <th>1</th>\n",
              "      <td>2590</td>\n",
              "      <td>56</td>\n",
              "      <td>2</td>\n",
              "      <td>212</td>\n",
              "      <td>-6</td>\n",
              "      <td>390</td>\n",
              "      <td>220</td>\n",
              "      <td>235</td>\n",
              "      <td>151</td>\n",
              "      <td>6225</td>\n",
              "      <td>1</td>\n",
              "      <td>0</td>\n",
              "      <td>0</td>\n",
              "      <td>0</td>\n",
              "      <td>0</td>\n",
              "      <td>0</td>\n",
              "      <td>0</td>\n",
              "      <td>0</td>\n",
              "      <td>0</td>\n",
              "      <td>0</td>\n",
              "      <td>0</td>\n",
              "      <td>0</td>\n",
              "      <td>0</td>\n",
              "      <td>0</td>\n",
              "      <td>0</td>\n",
              "      <td>0</td>\n",
              "      <td>0</td>\n",
              "      <td>0</td>\n",
              "      <td>0</td>\n",
              "      <td>0</td>\n",
              "      <td>0</td>\n",
              "      <td>0</td>\n",
              "      <td>0</td>\n",
              "      <td>0</td>\n",
              "      <td>0</td>\n",
              "      <td>0</td>\n",
              "      <td>0</td>\n",
              "      <td>0</td>\n",
              "      <td>0</td>\n",
              "      <td>0</td>\n",
              "      <td>0</td>\n",
              "      <td>0</td>\n",
              "      <td>1</td>\n",
              "      <td>0</td>\n",
              "      <td>0</td>\n",
              "      <td>0</td>\n",
              "      <td>0</td>\n",
              "      <td>0</td>\n",
              "      <td>0</td>\n",
              "      <td>0</td>\n",
              "      <td>0</td>\n",
              "      <td>0</td>\n",
              "      <td>0</td>\n",
              "      <td>0</td>\n",
              "      <td>5</td>\n",
              "    </tr>\n",
              "    <tr>\n",
              "      <th>2</th>\n",
              "      <td>2804</td>\n",
              "      <td>139</td>\n",
              "      <td>9</td>\n",
              "      <td>268</td>\n",
              "      <td>65</td>\n",
              "      <td>3180</td>\n",
              "      <td>234</td>\n",
              "      <td>238</td>\n",
              "      <td>135</td>\n",
              "      <td>6121</td>\n",
              "      <td>1</td>\n",
              "      <td>0</td>\n",
              "      <td>0</td>\n",
              "      <td>0</td>\n",
              "      <td>0</td>\n",
              "      <td>0</td>\n",
              "      <td>0</td>\n",
              "      <td>0</td>\n",
              "      <td>0</td>\n",
              "      <td>0</td>\n",
              "      <td>0</td>\n",
              "      <td>0</td>\n",
              "      <td>0</td>\n",
              "      <td>0</td>\n",
              "      <td>0</td>\n",
              "      <td>1</td>\n",
              "      <td>0</td>\n",
              "      <td>0</td>\n",
              "      <td>0</td>\n",
              "      <td>0</td>\n",
              "      <td>0</td>\n",
              "      <td>0</td>\n",
              "      <td>0</td>\n",
              "      <td>0</td>\n",
              "      <td>0</td>\n",
              "      <td>0</td>\n",
              "      <td>0</td>\n",
              "      <td>0</td>\n",
              "      <td>0</td>\n",
              "      <td>0</td>\n",
              "      <td>0</td>\n",
              "      <td>0</td>\n",
              "      <td>0</td>\n",
              "      <td>0</td>\n",
              "      <td>0</td>\n",
              "      <td>0</td>\n",
              "      <td>0</td>\n",
              "      <td>0</td>\n",
              "      <td>0</td>\n",
              "      <td>0</td>\n",
              "      <td>0</td>\n",
              "      <td>0</td>\n",
              "      <td>0</td>\n",
              "      <td>0</td>\n",
              "      <td>2</td>\n",
              "    </tr>\n",
              "    <tr>\n",
              "      <th>3</th>\n",
              "      <td>2785</td>\n",
              "      <td>155</td>\n",
              "      <td>18</td>\n",
              "      <td>242</td>\n",
              "      <td>118</td>\n",
              "      <td>3090</td>\n",
              "      <td>238</td>\n",
              "      <td>238</td>\n",
              "      <td>122</td>\n",
              "      <td>6211</td>\n",
              "      <td>1</td>\n",
              "      <td>0</td>\n",
              "      <td>0</td>\n",
              "      <td>0</td>\n",
              "      <td>0</td>\n",
              "      <td>0</td>\n",
              "      <td>0</td>\n",
              "      <td>0</td>\n",
              "      <td>0</td>\n",
              "      <td>0</td>\n",
              "      <td>0</td>\n",
              "      <td>0</td>\n",
              "      <td>0</td>\n",
              "      <td>0</td>\n",
              "      <td>0</td>\n",
              "      <td>0</td>\n",
              "      <td>0</td>\n",
              "      <td>0</td>\n",
              "      <td>0</td>\n",
              "      <td>0</td>\n",
              "      <td>0</td>\n",
              "      <td>0</td>\n",
              "      <td>0</td>\n",
              "      <td>0</td>\n",
              "      <td>0</td>\n",
              "      <td>0</td>\n",
              "      <td>0</td>\n",
              "      <td>0</td>\n",
              "      <td>0</td>\n",
              "      <td>0</td>\n",
              "      <td>0</td>\n",
              "      <td>0</td>\n",
              "      <td>0</td>\n",
              "      <td>1</td>\n",
              "      <td>0</td>\n",
              "      <td>0</td>\n",
              "      <td>0</td>\n",
              "      <td>0</td>\n",
              "      <td>0</td>\n",
              "      <td>0</td>\n",
              "      <td>0</td>\n",
              "      <td>0</td>\n",
              "      <td>0</td>\n",
              "      <td>0</td>\n",
              "      <td>2</td>\n",
              "    </tr>\n",
              "    <tr>\n",
              "      <th>4</th>\n",
              "      <td>2595</td>\n",
              "      <td>45</td>\n",
              "      <td>2</td>\n",
              "      <td>153</td>\n",
              "      <td>-1</td>\n",
              "      <td>391</td>\n",
              "      <td>220</td>\n",
              "      <td>234</td>\n",
              "      <td>150</td>\n",
              "      <td>6172</td>\n",
              "      <td>1</td>\n",
              "      <td>0</td>\n",
              "      <td>0</td>\n",
              "      <td>0</td>\n",
              "      <td>0</td>\n",
              "      <td>0</td>\n",
              "      <td>0</td>\n",
              "      <td>0</td>\n",
              "      <td>0</td>\n",
              "      <td>0</td>\n",
              "      <td>0</td>\n",
              "      <td>0</td>\n",
              "      <td>0</td>\n",
              "      <td>0</td>\n",
              "      <td>0</td>\n",
              "      <td>0</td>\n",
              "      <td>0</td>\n",
              "      <td>0</td>\n",
              "      <td>0</td>\n",
              "      <td>0</td>\n",
              "      <td>0</td>\n",
              "      <td>0</td>\n",
              "      <td>0</td>\n",
              "      <td>0</td>\n",
              "      <td>0</td>\n",
              "      <td>0</td>\n",
              "      <td>0</td>\n",
              "      <td>0</td>\n",
              "      <td>0</td>\n",
              "      <td>0</td>\n",
              "      <td>0</td>\n",
              "      <td>0</td>\n",
              "      <td>1</td>\n",
              "      <td>0</td>\n",
              "      <td>0</td>\n",
              "      <td>0</td>\n",
              "      <td>0</td>\n",
              "      <td>0</td>\n",
              "      <td>0</td>\n",
              "      <td>0</td>\n",
              "      <td>0</td>\n",
              "      <td>0</td>\n",
              "      <td>0</td>\n",
              "      <td>0</td>\n",
              "      <td>5</td>\n",
              "    </tr>\n",
              "    <tr>\n",
              "      <th>...</th>\n",
              "      <td>...</td>\n",
              "      <td>...</td>\n",
              "      <td>...</td>\n",
              "      <td>...</td>\n",
              "      <td>...</td>\n",
              "      <td>...</td>\n",
              "      <td>...</td>\n",
              "      <td>...</td>\n",
              "      <td>...</td>\n",
              "      <td>...</td>\n",
              "      <td>...</td>\n",
              "      <td>...</td>\n",
              "      <td>...</td>\n",
              "      <td>...</td>\n",
              "      <td>...</td>\n",
              "      <td>...</td>\n",
              "      <td>...</td>\n",
              "      <td>...</td>\n",
              "      <td>...</td>\n",
              "      <td>...</td>\n",
              "      <td>...</td>\n",
              "      <td>...</td>\n",
              "      <td>...</td>\n",
              "      <td>...</td>\n",
              "      <td>...</td>\n",
              "      <td>...</td>\n",
              "      <td>...</td>\n",
              "      <td>...</td>\n",
              "      <td>...</td>\n",
              "      <td>...</td>\n",
              "      <td>...</td>\n",
              "      <td>...</td>\n",
              "      <td>...</td>\n",
              "      <td>...</td>\n",
              "      <td>...</td>\n",
              "      <td>...</td>\n",
              "      <td>...</td>\n",
              "      <td>...</td>\n",
              "      <td>...</td>\n",
              "      <td>...</td>\n",
              "      <td>...</td>\n",
              "      <td>...</td>\n",
              "      <td>...</td>\n",
              "      <td>...</td>\n",
              "      <td>...</td>\n",
              "      <td>...</td>\n",
              "      <td>...</td>\n",
              "      <td>...</td>\n",
              "      <td>...</td>\n",
              "      <td>...</td>\n",
              "      <td>...</td>\n",
              "      <td>...</td>\n",
              "      <td>...</td>\n",
              "      <td>...</td>\n",
              "      <td>...</td>\n",
              "    </tr>\n",
              "    <tr>\n",
              "      <th>581007</th>\n",
              "      <td>2396</td>\n",
              "      <td>153</td>\n",
              "      <td>20</td>\n",
              "      <td>85</td>\n",
              "      <td>17</td>\n",
              "      <td>108</td>\n",
              "      <td>240</td>\n",
              "      <td>237</td>\n",
              "      <td>118</td>\n",
              "      <td>837</td>\n",
              "      <td>0</td>\n",
              "      <td>0</td>\n",
              "      <td>1</td>\n",
              "      <td>0</td>\n",
              "      <td>0</td>\n",
              "      <td>1</td>\n",
              "      <td>0</td>\n",
              "      <td>0</td>\n",
              "      <td>0</td>\n",
              "      <td>0</td>\n",
              "      <td>0</td>\n",
              "      <td>0</td>\n",
              "      <td>0</td>\n",
              "      <td>0</td>\n",
              "      <td>0</td>\n",
              "      <td>0</td>\n",
              "      <td>0</td>\n",
              "      <td>0</td>\n",
              "      <td>0</td>\n",
              "      <td>0</td>\n",
              "      <td>0</td>\n",
              "      <td>0</td>\n",
              "      <td>0</td>\n",
              "      <td>0</td>\n",
              "      <td>0</td>\n",
              "      <td>0</td>\n",
              "      <td>0</td>\n",
              "      <td>0</td>\n",
              "      <td>0</td>\n",
              "      <td>0</td>\n",
              "      <td>0</td>\n",
              "      <td>0</td>\n",
              "      <td>0</td>\n",
              "      <td>0</td>\n",
              "      <td>0</td>\n",
              "      <td>0</td>\n",
              "      <td>0</td>\n",
              "      <td>0</td>\n",
              "      <td>0</td>\n",
              "      <td>0</td>\n",
              "      <td>0</td>\n",
              "      <td>0</td>\n",
              "      <td>0</td>\n",
              "      <td>0</td>\n",
              "      <td>3</td>\n",
              "    </tr>\n",
              "    <tr>\n",
              "      <th>581008</th>\n",
              "      <td>2391</td>\n",
              "      <td>152</td>\n",
              "      <td>19</td>\n",
              "      <td>67</td>\n",
              "      <td>12</td>\n",
              "      <td>95</td>\n",
              "      <td>240</td>\n",
              "      <td>237</td>\n",
              "      <td>119</td>\n",
              "      <td>845</td>\n",
              "      <td>0</td>\n",
              "      <td>0</td>\n",
              "      <td>1</td>\n",
              "      <td>0</td>\n",
              "      <td>0</td>\n",
              "      <td>1</td>\n",
              "      <td>0</td>\n",
              "      <td>0</td>\n",
              "      <td>0</td>\n",
              "      <td>0</td>\n",
              "      <td>0</td>\n",
              "      <td>0</td>\n",
              "      <td>0</td>\n",
              "      <td>0</td>\n",
              "      <td>0</td>\n",
              "      <td>0</td>\n",
              "      <td>0</td>\n",
              "      <td>0</td>\n",
              "      <td>0</td>\n",
              "      <td>0</td>\n",
              "      <td>0</td>\n",
              "      <td>0</td>\n",
              "      <td>0</td>\n",
              "      <td>0</td>\n",
              "      <td>0</td>\n",
              "      <td>0</td>\n",
              "      <td>0</td>\n",
              "      <td>0</td>\n",
              "      <td>0</td>\n",
              "      <td>0</td>\n",
              "      <td>0</td>\n",
              "      <td>0</td>\n",
              "      <td>0</td>\n",
              "      <td>0</td>\n",
              "      <td>0</td>\n",
              "      <td>0</td>\n",
              "      <td>0</td>\n",
              "      <td>0</td>\n",
              "      <td>0</td>\n",
              "      <td>0</td>\n",
              "      <td>0</td>\n",
              "      <td>0</td>\n",
              "      <td>0</td>\n",
              "      <td>0</td>\n",
              "      <td>3</td>\n",
              "    </tr>\n",
              "    <tr>\n",
              "      <th>581009</th>\n",
              "      <td>2386</td>\n",
              "      <td>159</td>\n",
              "      <td>17</td>\n",
              "      <td>60</td>\n",
              "      <td>7</td>\n",
              "      <td>90</td>\n",
              "      <td>236</td>\n",
              "      <td>241</td>\n",
              "      <td>130</td>\n",
              "      <td>854</td>\n",
              "      <td>0</td>\n",
              "      <td>0</td>\n",
              "      <td>1</td>\n",
              "      <td>0</td>\n",
              "      <td>0</td>\n",
              "      <td>1</td>\n",
              "      <td>0</td>\n",
              "      <td>0</td>\n",
              "      <td>0</td>\n",
              "      <td>0</td>\n",
              "      <td>0</td>\n",
              "      <td>0</td>\n",
              "      <td>0</td>\n",
              "      <td>0</td>\n",
              "      <td>0</td>\n",
              "      <td>0</td>\n",
              "      <td>0</td>\n",
              "      <td>0</td>\n",
              "      <td>0</td>\n",
              "      <td>0</td>\n",
              "      <td>0</td>\n",
              "      <td>0</td>\n",
              "      <td>0</td>\n",
              "      <td>0</td>\n",
              "      <td>0</td>\n",
              "      <td>0</td>\n",
              "      <td>0</td>\n",
              "      <td>0</td>\n",
              "      <td>0</td>\n",
              "      <td>0</td>\n",
              "      <td>0</td>\n",
              "      <td>0</td>\n",
              "      <td>0</td>\n",
              "      <td>0</td>\n",
              "      <td>0</td>\n",
              "      <td>0</td>\n",
              "      <td>0</td>\n",
              "      <td>0</td>\n",
              "      <td>0</td>\n",
              "      <td>0</td>\n",
              "      <td>0</td>\n",
              "      <td>0</td>\n",
              "      <td>0</td>\n",
              "      <td>0</td>\n",
              "      <td>3</td>\n",
              "    </tr>\n",
              "    <tr>\n",
              "      <th>581010</th>\n",
              "      <td>2384</td>\n",
              "      <td>170</td>\n",
              "      <td>15</td>\n",
              "      <td>60</td>\n",
              "      <td>5</td>\n",
              "      <td>90</td>\n",
              "      <td>230</td>\n",
              "      <td>245</td>\n",
              "      <td>143</td>\n",
              "      <td>864</td>\n",
              "      <td>0</td>\n",
              "      <td>0</td>\n",
              "      <td>1</td>\n",
              "      <td>0</td>\n",
              "      <td>0</td>\n",
              "      <td>1</td>\n",
              "      <td>0</td>\n",
              "      <td>0</td>\n",
              "      <td>0</td>\n",
              "      <td>0</td>\n",
              "      <td>0</td>\n",
              "      <td>0</td>\n",
              "      <td>0</td>\n",
              "      <td>0</td>\n",
              "      <td>0</td>\n",
              "      <td>0</td>\n",
              "      <td>0</td>\n",
              "      <td>0</td>\n",
              "      <td>0</td>\n",
              "      <td>0</td>\n",
              "      <td>0</td>\n",
              "      <td>0</td>\n",
              "      <td>0</td>\n",
              "      <td>0</td>\n",
              "      <td>0</td>\n",
              "      <td>0</td>\n",
              "      <td>0</td>\n",
              "      <td>0</td>\n",
              "      <td>0</td>\n",
              "      <td>0</td>\n",
              "      <td>0</td>\n",
              "      <td>0</td>\n",
              "      <td>0</td>\n",
              "      <td>0</td>\n",
              "      <td>0</td>\n",
              "      <td>0</td>\n",
              "      <td>0</td>\n",
              "      <td>0</td>\n",
              "      <td>0</td>\n",
              "      <td>0</td>\n",
              "      <td>0</td>\n",
              "      <td>0</td>\n",
              "      <td>0</td>\n",
              "      <td>0</td>\n",
              "      <td>3</td>\n",
              "    </tr>\n",
              "    <tr>\n",
              "      <th>581011</th>\n",
              "      <td>2383</td>\n",
              "      <td>165</td>\n",
              "      <td>13</td>\n",
              "      <td>60</td>\n",
              "      <td>4</td>\n",
              "      <td>67</td>\n",
              "      <td>231</td>\n",
              "      <td>244</td>\n",
              "      <td>141</td>\n",
              "      <td>875</td>\n",
              "      <td>0</td>\n",
              "      <td>0</td>\n",
              "      <td>1</td>\n",
              "      <td>0</td>\n",
              "      <td>0</td>\n",
              "      <td>1</td>\n",
              "      <td>0</td>\n",
              "      <td>0</td>\n",
              "      <td>0</td>\n",
              "      <td>0</td>\n",
              "      <td>0</td>\n",
              "      <td>0</td>\n",
              "      <td>0</td>\n",
              "      <td>0</td>\n",
              "      <td>0</td>\n",
              "      <td>0</td>\n",
              "      <td>0</td>\n",
              "      <td>0</td>\n",
              "      <td>0</td>\n",
              "      <td>0</td>\n",
              "      <td>0</td>\n",
              "      <td>0</td>\n",
              "      <td>0</td>\n",
              "      <td>0</td>\n",
              "      <td>0</td>\n",
              "      <td>0</td>\n",
              "      <td>0</td>\n",
              "      <td>0</td>\n",
              "      <td>0</td>\n",
              "      <td>0</td>\n",
              "      <td>0</td>\n",
              "      <td>0</td>\n",
              "      <td>0</td>\n",
              "      <td>0</td>\n",
              "      <td>0</td>\n",
              "      <td>0</td>\n",
              "      <td>0</td>\n",
              "      <td>0</td>\n",
              "      <td>0</td>\n",
              "      <td>0</td>\n",
              "      <td>0</td>\n",
              "      <td>0</td>\n",
              "      <td>0</td>\n",
              "      <td>0</td>\n",
              "      <td>3</td>\n",
              "    </tr>\n",
              "  </tbody>\n",
              "</table>\n",
              "<p>581012 rows × 55 columns</p>\n",
              "</div>"
            ],
            "text/plain": [
              "        Elevation  Aspect  Slope  ...  Soil_Type39  Soil_Type40  Cover_Type\n",
              "0            2596      51      3  ...            0            0           5\n",
              "1            2590      56      2  ...            0            0           5\n",
              "2            2804     139      9  ...            0            0           2\n",
              "3            2785     155     18  ...            0            0           2\n",
              "4            2595      45      2  ...            0            0           5\n",
              "...           ...     ...    ...  ...          ...          ...         ...\n",
              "581007       2396     153     20  ...            0            0           3\n",
              "581008       2391     152     19  ...            0            0           3\n",
              "581009       2386     159     17  ...            0            0           3\n",
              "581010       2384     170     15  ...            0            0           3\n",
              "581011       2383     165     13  ...            0            0           3\n",
              "\n",
              "[581012 rows x 55 columns]"
            ]
          },
          "metadata": {
            "tags": []
          },
          "execution_count": 12
        }
      ]
    },
    {
      "cell_type": "markdown",
      "metadata": {
        "id": "bg2gYvwswGek"
      },
      "source": [
        "## Create a dataset class\n",
        "In the next cell we will create a dataset class for our forest cover data. Notice this time the dataset class will directly take a pandas dataframe and then extract the input and labels from it. The data has 55 columns, the first 54 columns contain the cartographic variables used to predict forecast cover type. Notice we convert the data into numpy arrays instead of PyTorch tensors. It is fine for datasets to output numpy arrays since, once we wrap a dataloader around the dataset the dataloader will automatically convert the numpy arrays into PyTorch tensors.\n",
        "\n",
        "You will need to do some work to complete the dataset class below."
      ]
    },
    {
      "cell_type": "code",
      "metadata": {
        "id": "iomKGo5WelaO"
      },
      "source": [
        "# Import the base class\n",
        "from torch.utils.data import Dataset\n",
        "\n",
        "# Subclassing in Python just requires adding the class name in parentheses\n",
        "class CovDataset(Dataset):\n",
        "    # The __init__ method is similar to a constructor like you find in other\n",
        "    # languages. \n",
        "    def __init__(self, df):\n",
        "        # We directly take the pandas data frame split the data into the inputs\n",
        "        # and labels.\n",
        "        # The first 54 columns contain the input attributes\n",
        "        # The last column called Cover_type contain the data we want to predict\n",
        "        self.inputs = df[df.columns[:54]].to_numpy().astype(np.float32)\n",
        "        self.labels = df.Cover_Type.to_numpy().astype(np.long)\n",
        "        # We make a deep copy of the inputs and store it as a copy of the original.\n",
        "        # This way when we normalize the data in a future exercise we can make sure\n",
        "        # we always apply the normalization based on the original inputs.\n",
        "        self.original_inputs =  self.inputs.copy()\n",
        "\n",
        "    def __len__(self):\n",
        "        # TODO: Return the length (number of items) in the dataset\n",
        "        return len(cover_type_df)\n",
        "\n",
        "    def __getitem__(self, idx):\n",
        "        # TODO: Store the inputs and labels for the item at index idx in variables\n",
        "        #       input and label\n",
        "        input = self.inputs[idx]\n",
        "        label = self.labels[idx]\n",
        "        \n",
        "       \n",
        "\n",
        "        return input, label\n",
        "\n",
        "    # TODO: there will be instructions later for you to add a normalization\n",
        "    #       function here. Remember you want to do the normalization from the\n",
        "    #       original_inputs instead of inputs.\n",
        "\n",
        "    def normalize_data(self, mean, std):\n",
        "      self.inputs = ((self.original_inputs - mean)/std).astype(np.float32)  \n"
      ],
      "execution_count": 20,
      "outputs": []
    },
    {
      "cell_type": "markdown",
      "metadata": {
        "id": "PfcSj7Mdxwt4"
      },
      "source": [
        "## Create train, validation and test dataset splits and dataloaders\n",
        "\n",
        "Notice the difference between this labs data loading code versus lab2a. The main difference is that we created a dataset class in the previous cell and passed the dataframe into it. So all the messy extraction of input data and labels are done in the dataset class. I think in general writing a dataset class is a more elegant way to code dataloading. So I encourage you to do that in the future as well.\n",
        "\n",
        "You will notice the this dataset is quite large.\n",
        "\n",
        "Please follow the instructions below to complete the code for creating the dataset object and then spliting it into train, validation and test splits. Then creating a *dataloader* for each dataset.\n",
        "\n"
      ]
    },
    {
      "cell_type": "code",
      "metadata": {
        "id": "9-O1HG9shUo3",
        "colab": {
          "base_uri": "https://localhost:8080/"
        },
        "outputId": "83628b1b-1b2d-41d2-f41c-ceec9fe6f56d"
      },
      "source": [
        "from torch.utils.data import DataLoader, Dataset, TensorDataset, random_split\n",
        "\n",
        "# The percentages for each partition\n",
        "TRAIN_SPLIT = 0.8\n",
        "VAL_SPLIT = 0.1\n",
        "TEST_SPLIT = 0.1\n",
        "BATCH_SIZE = 64\n",
        "\n",
        "# Ensure that the splits add to 100%\n",
        "assert TRAIN_SPLIT + VAL_SPLIT + TEST_SPLIT == 1\n",
        "\n",
        "# TODO : create the forecast cover dataset (CovDataset) object using the cover_type_df\n",
        "#        dataframe.\n",
        "entirecoverDataSet = CovDataset(cover_type_df)\n",
        "\n",
        "\n",
        "# Calculate the number of examples in each partition\n",
        "train_size = int(TRAIN_SPLIT * len(entirecoverDataSet))\n",
        "val_size = int(VAL_SPLIT * len(entirecoverDataSet))\n",
        "test_size = len(entirecoverDataSet) - train_size - val_size\n",
        "\n",
        "print(\"Train examples:     \", train_size)\n",
        "print(\"Validation examples:\", val_size)\n",
        "print(\"Test examples:      \", test_size)\n",
        "\n",
        "\n",
        "#TODO Just like you did in lab2a please use the random_split function to \n",
        "#     break entirecoverDataSet into train_dataset, val_dataset, test_dataset\n",
        "# train_dataset, val_dataset, test_dataset = \n",
        "\n",
        "train_dataset, val_dataset, test_dataset = random_split(\n",
        "  entirecoverDataSet, [train_size, val_size, test_size])\n",
        "\n",
        "\n",
        "\n",
        "\n",
        "#TODO Just like you did in lab2a please create the train_loader, val_loader\n",
        "#     and test_loader using their corresponding datasets.\n",
        "#     Please do random shuffling for the train_loader, do not do random shuffle\n",
        "#     for the other two data loaders\n",
        "\n",
        "train_loader = DataLoader(train_dataset,BATCH_SIZE, shuffle = True)\n",
        "val_loader = DataLoader(val_dataset,BATCH_SIZE, shuffle = False)\n",
        "test_loader = DataLoader(test_dataset,BATCH_SIZE, shuffle = False)\n",
        "\n"
      ],
      "execution_count": 21,
      "outputs": [
        {
          "output_type": "stream",
          "text": [
            "Train examples:      464809\n",
            "Validation examples: 58101\n",
            "Test examples:       58102\n"
          ],
          "name": "stdout"
        }
      ]
    },
    {
      "cell_type": "markdown",
      "metadata": {
        "id": "wfcp-KX0lgs4"
      },
      "source": [
        "Lets take a look at the first element of the training dataset that we created. You should see a tuple where the first element contains a 1D array with 54 elements and the second element stores the output label."
      ]
    },
    {
      "cell_type": "code",
      "metadata": {
        "id": "rCLUadTukD2L",
        "colab": {
          "base_uri": "https://localhost:8080/"
        },
        "outputId": "66863b69-66d4-4904-e0bc-7805f1a58240"
      },
      "source": [
        "print(train_dataset[0])"
      ],
      "execution_count": 22,
      "outputs": [
        {
          "output_type": "stream",
          "text": [
            "(array([3.271e+03, 3.800e+01, 2.400e+01, 2.400e+02, 1.200e+01, 2.670e+03,\n",
            "       2.120e+02, 1.810e+02, 9.200e+01, 1.403e+03, 0.000e+00, 0.000e+00,\n",
            "       1.000e+00, 0.000e+00, 0.000e+00, 0.000e+00, 0.000e+00, 0.000e+00,\n",
            "       0.000e+00, 0.000e+00, 0.000e+00, 0.000e+00, 0.000e+00, 0.000e+00,\n",
            "       0.000e+00, 0.000e+00, 0.000e+00, 0.000e+00, 0.000e+00, 0.000e+00,\n",
            "       0.000e+00, 0.000e+00, 0.000e+00, 0.000e+00, 0.000e+00, 0.000e+00,\n",
            "       0.000e+00, 1.000e+00, 0.000e+00, 0.000e+00, 0.000e+00, 0.000e+00,\n",
            "       0.000e+00, 0.000e+00, 0.000e+00, 0.000e+00, 0.000e+00, 0.000e+00,\n",
            "       0.000e+00, 0.000e+00, 0.000e+00, 0.000e+00, 0.000e+00, 0.000e+00],\n",
            "      dtype=float32), 1)\n"
          ],
          "name": "stdout"
        }
      ]
    },
    {
      "cell_type": "markdown",
      "metadata": {
        "id": "X4lAnCZr5q1M"
      },
      "source": [
        "## MLP model\n",
        "\n",
        "In the cell below finish the definition of a MLP model that will be used in the training loop. Notice we have already specified the default input and output size for the model. "
      ]
    },
    {
      "cell_type": "code",
      "metadata": {
        "id": "IU_e7ShVl9vw"
      },
      "source": [
        "\n",
        "# Custom models need to subclass nn.Module\n",
        "class MLP(nn.Module):\n",
        "    def __init__(self,\n",
        "                 device,\n",
        "                 input_size=54, # default to 54\n",
        "                 output_size=8 # default to the number of classes\n",
        "                 ):\n",
        "        super().__init__()\n",
        "\n",
        "        # Write the classifier layers here.\n",
        "        self.seq = nn.Sequential(\n",
        "            \n",
        "            ## TODO: add the following layers\n",
        "            #        Linear layer that outputs 64 neurons\n",
        "            nn.Linear(input_size,64),\n",
        "            #        ReLU\n",
        "            nn.ReLU(),\n",
        "            #        Linear layer that outputs 64 neurons\n",
        "            nn.Linear(64,64),\n",
        "            #        ReLU\n",
        "            nn.ReLU(),\n",
        "            #        Linear layer that outputs output_size neurons\n",
        "            nn.Linear(64,output_size)\n",
        "           \n",
        "        )\n",
        "        # Transfer the model weights to the GPU\n",
        "        self.to(device)\n",
        "    \n",
        "    # The forward method takes input values and returns predictions. We just need\n",
        "    # to pass the inputs through the layers we defined in __init__\n",
        "    def forward(self, x):\n",
        "        return self.seq(x)"
      ],
      "execution_count": 23,
      "outputs": []
    },
    {
      "cell_type": "markdown",
      "metadata": {
        "id": "x9zQhj8H6bIj"
      },
      "source": [
        "## Training loop\n",
        "To keep things simple I have just copied the training loop used in lab 2b here to do the training. Note we are not using the validation dataset in order to keep the training code short. I have set the optimizer to the Adam optimizer with initial learning rate of 0.001.\n",
        "\n",
        "Lets train the model and see what happens."
      ]
    },
    {
      "cell_type": "code",
      "metadata": {
        "id": "6vmRY2Q3ncXk"
      },
      "source": [
        "def compute_accuracy(predictions, targets):\n",
        "    # Find the index with the highest predicted value - this is the predicted digit\n",
        "    predictions = predictions.argmax(1)\n",
        "    # Count the number of predictions that match the target\n",
        "    correct = (predictions == targets).sum().item()\n",
        "    # Compute the accuracy as the percentage correctly predicted\n",
        "    acc = correct / len(targets)\n",
        "    return acc"
      ],
      "execution_count": 24,
      "outputs": []
    },
    {
      "cell_type": "code",
      "metadata": {
        "id": "5CGeH6MXnmda",
        "colab": {
          "base_uri": "https://localhost:8080/",
          "height": 423,
          "referenced_widgets": [
            "871004aa13eb4b05a56bcde07a5663bc",
            "ab359fda44de4eafa3108db68d21df26",
            "342e858ed43344519db30b493181e2d9",
            "88a0cba8150845d0a9681a592b6d5ee2",
            "be8559d8a9f6495ea025de683beda94f",
            "948730672fc24d369e28b4321c761fa7",
            "f966fbf0b2894f31a075b6eab7f0447e",
            "5c3bc724496f469eabb51889853c4905"
          ]
        },
        "outputId": "86031f44-f819-436b-a72b-e88d73641012"
      },
      "source": [
        "import torch.optim as optim\n",
        "\n",
        "from tqdm.notebook import tqdm\n",
        "\n",
        "criterion = nn.CrossEntropyLoss()\n",
        "\n",
        "model = MLP(device)\n",
        "optimizer = torch.optim.Adam(model.parameters(), lr=0.001)\n",
        "\n",
        "# The number of times we loop over the entire dataset\n",
        "total_epochs = 10\n",
        "for epoch in tqdm(range(total_epochs)): \n",
        "    epoch_train_accuracy = []\n",
        "    running_loss = 0.0\n",
        "    for i, data in enumerate(train_loader, 0):\n",
        "        inputs, labels = data\n",
        "        inputs, labels = inputs.to(device), labels.to(device)\n",
        "        optimizer.zero_grad()\n",
        "        outputs = model(inputs)\n",
        "        loss = criterion(outputs, labels)   \n",
        "        accuracy = compute_accuracy(outputs, labels)\n",
        "        epoch_train_accuracy.append(accuracy)\n",
        "        loss.backward()\n",
        "        optimizer.step()\n",
        "        running_loss += loss.item()\n",
        "\n",
        "    print('epoch: %d loss: %.3f' % (epoch + 1, running_loss / len(train_loader)))\n",
        "    print('epoch: %d accuracy: %.3f' % (epoch + 1, np.mean(epoch_train_accuracy)))\n",
        "print('Finished Training')\n"
      ],
      "execution_count": 29,
      "outputs": [
        {
          "output_type": "display_data",
          "data": {
            "application/vnd.jupyter.widget-view+json": {
              "model_id": "871004aa13eb4b05a56bcde07a5663bc",
              "version_minor": 0,
              "version_major": 2
            },
            "text/plain": [
              "HBox(children=(FloatProgress(value=0.0, max=10.0), HTML(value='')))"
            ]
          },
          "metadata": {
            "tags": []
          }
        },
        {
          "output_type": "stream",
          "text": [
            "epoch: 1 loss: 0.976\n",
            "epoch: 1 accuracy: 0.645\n",
            "epoch: 2 loss: 0.656\n",
            "epoch: 2 accuracy: 0.717\n",
            "epoch: 3 loss: 0.609\n",
            "epoch: 3 accuracy: 0.737\n",
            "epoch: 4 loss: 0.583\n",
            "epoch: 4 accuracy: 0.750\n",
            "epoch: 5 loss: 0.566\n",
            "epoch: 5 accuracy: 0.757\n",
            "epoch: 6 loss: 0.555\n",
            "epoch: 6 accuracy: 0.762\n",
            "epoch: 7 loss: 0.547\n",
            "epoch: 7 accuracy: 0.766\n",
            "epoch: 8 loss: 0.540\n",
            "epoch: 8 accuracy: 0.769\n",
            "epoch: 9 loss: 0.533\n",
            "epoch: 9 accuracy: 0.773\n",
            "epoch: 10 loss: 0.527\n",
            "epoch: 10 accuracy: 0.775\n",
            "\n",
            "Finished Training\n"
          ],
          "name": "stdout"
        }
      ]
    },
    {
      "cell_type": "markdown",
      "metadata": {
        "id": "W9d-l6Oq7Evm"
      },
      "source": [
        "If everything goes according to plan you will notice that the training accuracy is around 77%. This is not that high considering other people can get 100% accuracy. Lets see what happens when we try it on the test dataset."
      ]
    },
    {
      "cell_type": "code",
      "metadata": {
        "id": "H-DfqSIEqi1c",
        "colab": {
          "base_uri": "https://localhost:8080/"
        },
        "outputId": "c5946efb-8425-4216-f0d0-9f953f281ab1"
      },
      "source": [
        "running_loss = 0.0\n",
        "total_test_accuracy = []\n",
        "\n",
        "for i, data in enumerate(test_loader, 0):\n",
        "   inputs, labels = data\n",
        "   inputs, labels = inputs.to(device), labels.to(device)\n",
        "\n",
        "   model.eval()\n",
        "   with torch.no_grad():\n",
        "    outputs = model(inputs)\n",
        "    loss = criterion(outputs, labels)\n",
        "    running_loss += loss.item()\n",
        "    accuracy = compute_accuracy(outputs, labels)\n",
        "    total_test_accuracy.append(accuracy) \n",
        "\n",
        "print(\"test loss: \", running_loss/len(test_loader))\n",
        "print('test accuracy: ', np.mean(total_test_accuracy))"
      ],
      "execution_count": 30,
      "outputs": [
        {
          "output_type": "stream",
          "text": [
            "test loss:  0.516637130882509\n",
            "test accuracy:  0.7759664606787404\n"
          ],
          "name": "stdout"
        }
      ]
    },
    {
      "cell_type": "markdown",
      "metadata": {
        "id": "YB-AGEhU7lkK"
      },
      "source": [
        "## Normalizing the data\n",
        "The test dataset also just reports accuracy of around 77%. Lets see if we can significantly improve the results using normalization.\n",
        "\n",
        "The normalization we want to do is called the [Standard score](https://en.wikipedia.org/wiki/Standard_score#Calculation) or z-score. So you subtract the mean and divide by the standard deviation. So this means we need to compute the mean and standard deviation of every column of the data resulting in 54 means and 54 standard deviations. \n",
        "\n",
        "Doing this normalization to each column will make the values in each column have similar range of values and make them small and centered around zero. This will make the job of training the neural network much easier since the weights of the linear layer can have similar range of values since the input across the different input features have similar magnitudes.\n",
        "\n",
        "The mean and standard deviation that we compute must be from the training dataset since in theory we do not have the statistics of the validation and test sets when training our model. Since the model is trained on the normalized data from the training set, it means when we perform validation and testing we also need to normalize the data based on the mean and standard deviation computed in the training dataset.\n",
        "\n",
        "In the code below we first extract the numpy array containing the input data from the training dataset. It is up to you to write the code to compute the mean and standard deviation for each column of the data.\n",
        "\n",
        "If you have done it correctly the data should be a 1D array with 54 elements.\n",
        "\n",
        "We then call a normalize_data function on the entire dataset to normalize the train, validation and test datasets using the mean and standard deviation we just computed. We can do this by just normalizing the input data in the  <font color=red> entirecoverDataSet </font> object since all the other splits all use this dataset by just index different elements of it.\n",
        "\n",
        "You need to go back to the <font color=red> CovDataset </font> class and add a function called <font color=red> normalize_data </font> which will normalize the input data member by subtracting the mean of the training data and dividing by the standard deviation. In the function please compute the normalized input based on the <font color=red original_inputs> instead of <font color=red inputs>. The reason for this is if you accidently call normalize twice, you don't want to the normalization to compound on each other. \n",
        "\n",
        "Once you have added the normalization function you will need to execute the \"Create train, validation and test dataset splits and dataloaders\" cell again to ensure the new updated definition of the <font color=red> CovDataset </font> class is used by the dataloaders. Then you will need to normalize the data by executing the next cell.\n",
        "\n",
        "Once you have normalized the data, please go back to the training loop and execute it again. See how much higher the training and test accuracy goes. You should see a very significant increase in the accuracy (around 10% higher accuracy).\n",
        "\n",
        "If you have time at the end of the lab. Feel free to come up with better models and also try different optimization parameter values to see if you can push the accuracy even higher.\n",
        "\n",
        "\n",
        "\n",
        "\n"
      ]
    },
    {
      "cell_type": "code",
      "metadata": {
        "id": "gK-JE8AFJ8EM"
      },
      "source": [
        "# Here we extract the input data of the training dataset into a\n",
        "# numpy array called train_inputs.\n",
        "train_inputs = entirecoverDataSet.inputs[train_dataset.indices]\n",
        "\n",
        "# TODO : write code to extract the mean and standard deviation for each column \n",
        "#        of the data and store them in the following variables.\n",
        "train_inputs_means = train_inputs.mean(axis=0)\n",
        "train_column_stds =  train_inputs.std(axis=0)\n",
        "\n",
        "\n",
        "# We call a normalize_data function on the entire data set.\n",
        "# This normalizes all the input data for the train, validation and test splits\n",
        "# in one go. \n",
        "# TODO: Please go to the CovDataset class and add a function called\n",
        "#       normalize_data which normalizes the input by subtracting the mean\n",
        "#       and dividing by the standard deviation from the original_input.\n",
        "entirecoverDataSet.normalize_data(train_inputs_means, train_column_stds)\n"
      ],
      "execution_count": 28,
      "outputs": []
    },
    {
      "cell_type": "markdown",
      "metadata": {
        "id": "ZqLNhhWUUKYQ"
      },
      "source": [
        "## Learning Rate Adjustments\n",
        "\n",
        "In the past, we've mentioned the effects of a poor choice of learning rate, and we'll now look at a practical example.\n",
        "\n",
        "To demonstrate this, we'll build a simple image dataset consisting of white squares and rectangles on a black background, with the task of classifying them as either squares or rectangles."
      ]
    },
    {
      "cell_type": "markdown",
      "metadata": {
        "id": "Wlh4uTUNeonM"
      },
      "source": [
        "### Preparation\n",
        "\n",
        "As before, the dataset has been implemented you. Feel free to read through it - although the implementation isn't particularly important.\n",
        "\n",
        "Each example in the dataset consists of a white rectangle of a randomly chosen width and height, with a label of `1` if it's a square and `0` if it's a rectangle."
      ]
    },
    {
      "cell_type": "code",
      "metadata": {
        "id": "gVzxCZsVS32B"
      },
      "source": [
        "from torch.utils.data import Dataset\n",
        "\n",
        "class ToyImageDataset(Dataset):\n",
        "    def __init__(self, num_examples):\n",
        "        super().__init__()\n",
        "        height, width = 12, 12\n",
        "        self.images, self.labels = self.gen_examples(num_examples, height, width)\n",
        "\n",
        "    def gen_examples(self, num_examples, height, width):\n",
        "        # Rectangles can be at most half the width or height of the image\n",
        "        max_height, max_width = height // 2, width // 2\n",
        "\n",
        "        # Initialise a tensor of zeros to fill in with rectangles\n",
        "        images = torch.zeros((num_examples, 1, height, width), dtype=torch.float32)\n",
        "\n",
        "        # Randomly generate the top-left corner of each rectangle\n",
        "        tops = torch.randint(0, height - 1, (num_examples,))\n",
        "        lefts = torch.randint(0, width - 1, (num_examples,))\n",
        "        # Randomly generate the heights and widths\n",
        "        heights = torch.randint(1, max_height + 1, (num_examples,))\n",
        "        widths = torch.randint(1, max_width + 1, (num_examples,))\n",
        "        # Calculate the bottom-right corner of each rectangle, being sure to not\n",
        "        # go beyond the image edge\n",
        "        bottoms = torch.clamp(tops + heights, 0, height)\n",
        "        rights = torch.clamp(lefts + widths, 0, width)\n",
        "\n",
        "        # Colour in the rectangles\n",
        "        for i, (t, l, b, r) in enumerate(zip(tops, lefts, bottoms, rights)):\n",
        "            images[i, :, t:b, l:r] = 1\n",
        "\n",
        "        # Squares are rectangles with equal widths and heights\n",
        "        labels = (heights == widths).type(torch.float32).unsqueeze(-1)\n",
        "        return images, labels\n",
        "\n",
        "    def __len__(self):\n",
        "        return len(self.images)\n",
        "    \n",
        "    def __getitem__(self, idx):\n",
        "        return self.images[idx], self.labels[idx]"
      ],
      "execution_count": 31,
      "outputs": []
    },
    {
      "cell_type": "markdown",
      "metadata": {
        "id": "_aojIUOth0lL"
      },
      "source": [
        "Run the next cell to create a couple of datasets and dataloaders."
      ]
    },
    {
      "cell_type": "code",
      "metadata": {
        "id": "cpMhiYA2MFZY"
      },
      "source": [
        "from torch.utils.data import DataLoader\n",
        "torch.manual_seed(42)\n",
        "\n",
        "BATCH_SIZE = 64\n",
        "\n",
        "train_dataset = ToyImageDataset(900)\n",
        "test_dataset = ToyImageDataset(100)\n",
        "\n",
        "train_loader = DataLoader(train_dataset, batch_size=BATCH_SIZE, shuffle=True)\n",
        "test_loader = DataLoader(test_dataset, batch_size=BATCH_SIZE, shuffle=False)"
      ],
      "execution_count": 32,
      "outputs": []
    },
    {
      "cell_type": "markdown",
      "metadata": {
        "id": "fSr5aNQRh3rJ"
      },
      "source": [
        "Let's take a look at some examples from the training dataset. You'll notice that there are very few square examples - we'll return to this later."
      ]
    },
    {
      "cell_type": "code",
      "metadata": {
        "id": "TVwhfIITcePL",
        "colab": {
          "base_uri": "https://localhost:8080/",
          "height": 482
        },
        "outputId": "7b66ddbd-e6b1-4143-9dac-a7a8003f0bf0"
      },
      "source": [
        "import matplotlib.pyplot as plt\n",
        "\n",
        "plt.figure(figsize=(12, 8))\n",
        "for i, (image, label) in enumerate(train_dataset):\n",
        "    if i == 24: break\n",
        "    plt.subplot(4, 6, i+1)\n",
        "    plt.imshow(image[0], cmap='gray', interpolation='nearest')\n",
        "    plt.axis('off')\n",
        "    plt.title('Square' if label else 'Rect')\n",
        "plt.show()"
      ],
      "execution_count": 33,
      "outputs": [
        {
          "output_type": "display_data",
          "data": {
            "image/png": "[encoded data removed]",
            "text/plain": [
              "<Figure size 864x576 with 24 Axes>"
            ]
          },
          "metadata": {
            "tags": [],
            "needs_background": "light"
          }
        }
      ]
    },
    {
      "cell_type": "markdown",
      "metadata": {
        "id": "AkU-XqXgiLhO"
      },
      "source": [
        "The CNN for this task is implemented below - note that as we're doing *binary* classification (between two classes), we output a single value. A value nearer to `0` is a prediction of class `0` and a value nearer to `1` is a predictions of class `1`."
      ]
    },
    {
      "cell_type": "code",
      "metadata": {
        "id": "xa7-MFw3gs7n"
      },
      "source": [
        "import torch.nn as nn\n",
        "\n",
        "# This Printer class is just used to print out the shape of the tensor before\n",
        "# putting it into the linear layer so we know what is the input size for the linear\n",
        "# layer.\n",
        "class Printer(nn.Module):\n",
        "    def forward(self, x):\n",
        "        print(x.shape)\n",
        "        return x\n",
        "\n",
        "class ConvNet(nn.Module):\n",
        "    def __init__(self, device):\n",
        "        super().__init__()\n",
        "        self.seq = nn.Sequential(\n",
        "            nn.Conv2d(1, 2, 3, padding=1),\n",
        "            nn.ReLU(),\n",
        "            nn.Conv2d(2, 4, 3, padding=1),\n",
        "            nn.ReLU(),\n",
        "            nn.MaxPool2d(2),\n",
        "            nn.Conv2d(4, 4, 3, padding=1),\n",
        "            nn.ReLU(),\n",
        "            nn.MaxPool2d(2),\n",
        "            nn.Conv2d(4, 4, 3, padding=1),\n",
        "            nn.ReLU(),\n",
        "            # Printer(),\n",
        "            nn.Flatten(),\n",
        "            nn.Linear(36, 1)\n",
        "        )\n",
        "        self.to(device)\n",
        "\n",
        "    def forward(self, x):\n",
        "        return self.seq(x)"
      ],
      "execution_count": 34,
      "outputs": []
    },
    {
      "cell_type": "markdown",
      "metadata": {
        "id": "ziZ8ow_CN-bu"
      },
      "source": [
        "This function plots training and testing values (we'll use it to graph the loss and accuracy)."
      ]
    },
    {
      "cell_type": "code",
      "metadata": {
        "id": "jMWyjXNfN9nA"
      },
      "source": [
        "def plot(title, train_vals, test_vals):\n",
        "    plt.plot(range(len(train_vals)), train_vals, label='Train')\n",
        "    plt.plot(range(len(test_vals)), test_vals, label='Test')\n",
        "    plt.legend()\n",
        "    plt.title(title)\n",
        "    plt.show()"
      ],
      "execution_count": 35,
      "outputs": []
    },
    {
      "cell_type": "code",
      "metadata": {
        "id": "c_2rp2ehSW3F"
      },
      "source": [
        "def compute_accuracy(predictions, targets):\n",
        "    # We will use a threshold of 0.5 to decide that the prediction is a square.\n",
        "    # In practice sometimes it is good to change this threshold.\n",
        "    predictions = torch.where(predictions >=0.5, 1, 0)\n",
        "    # Count the number of predictions that match the target\n",
        "    correct = (predictions == targets).sum().item()\n",
        "    # Compute the accuracy as the percentage correctly predicted\n",
        "    return correct / len(targets)"
      ],
      "execution_count": 36,
      "outputs": []
    },
    {
      "cell_type": "markdown",
      "metadata": {
        "id": "PhvAMyP9Ngm5"
      },
      "source": [
        "Here we have a function to perform training and testing."
      ]
    },
    {
      "cell_type": "code",
      "metadata": {
        "id": "rr2sTAJMENBX"
      },
      "source": [
        "from tqdm.notebook import tqdm\n",
        "\n",
        "def train_and_test(model, train_loader, test_loader, loss_func, optimiser, num_epochs, acc_func=None):\n",
        "    train_losses, test_losses = [], []\n",
        "    train_accs, test_accs = [], []\n",
        "    for epoch in tqdm(range(num_epochs)):\n",
        "        sum_loss, sum_acc = 0, 0\n",
        "        for inputs, labels in train_loader:\n",
        "            inputs, labels = inputs.to(device), labels.to(device)\n",
        "            optimiser.zero_grad()\n",
        "            outputs = model(inputs)\n",
        "            loss = loss_func(outputs, labels)\n",
        "            loss.backward()\n",
        "            optimiser.step()\n",
        "            sum_loss += loss.item()\n",
        "            if acc_func: sum_acc += acc_func(outputs, labels)\n",
        "        train_losses.append(sum_loss / len(train_loader))\n",
        "        train_accs.append(sum_acc / len(train_loader))\n",
        "\n",
        "        sum_loss, sum_acc = 0, 0\n",
        "        for inputs, labels in test_loader:\n",
        "            inputs, labels = inputs.to(device), labels.to(device)\n",
        "            outputs = model(inputs)\n",
        "            loss = loss_func(outputs, labels)\n",
        "            sum_loss += loss.item()\n",
        "            if acc_func: sum_acc += acc_func(outputs, labels)\n",
        "        test_losses.append(sum_loss / len(test_loader))\n",
        "        test_accs.append(sum_acc / len(test_loader))\n",
        "\n",
        "    return train_losses, test_losses, train_accs, test_accs"
      ],
      "execution_count": 37,
      "outputs": []
    },
    {
      "cell_type": "markdown",
      "metadata": {
        "id": "apE5PWd2iqzz"
      },
      "source": [
        "### Train the Model\n",
        "\n",
        "We now call the training and plotting functions to train and view the training and testing accuracy curves."
      ]
    },
    {
      "cell_type": "code",
      "metadata": {
        "id": "yz4wxeq7fMOB",
        "colab": {
          "base_uri": "https://localhost:8080/",
          "height": 398,
          "referenced_widgets": [
            "f352653ec508406a80c262f42ea05e23",
            "da9934e121a248f5933778b6dd0a31d9",
            "7d0f6952c2014e73a1a855acad2ba0ee",
            "ac4a02d7ab0c4bc0a6f9399ac5c55b70",
            "525e7fe7282747a998fa09cce6cb6f22",
            "cb78c41f23cd4e6e88da4d86b784a547",
            "a7c49cd973f54f5aae969fd86d9889d3",
            "3b40567def634a4d83cbcd46f292d6d5"
          ]
        },
        "outputId": "9e9b2f29-8f09-4b95-fd7d-59064fcf5643"
      },
      "source": [
        "torch.manual_seed(42)\n",
        "\n",
        "model = ConvNet(device)\n",
        "# Note this Binary Cross Entropy Loss expects the input to be logits.\n",
        "# This means you should not have a sigmoid at the end your model, since\n",
        "# the sigmoid is automatically put there for you.\n",
        "loss_func = nn.BCEWithLogitsLoss()\n",
        "\n",
        "\n",
        "\n",
        "# TODO: First try the code. Then adjust the learning rate (lr) to something more reasonable like 1e-3.\n",
        "optimiser = torch.optim.Adam(model.parameters(), lr=0.001)\n",
        "\n",
        "\n",
        "train_losses, test_losses, train_accs, test_accs = train_and_test(model,\n",
        "                                                  train_loader,\n",
        "                                                  test_loader,\n",
        "                                                  loss_func,\n",
        "                                                  optimiser,\n",
        "                                                  num_epochs= 1000,\n",
        "                                                  acc_func=compute_accuracy)\n",
        "\n",
        "plot(\"Accuracy\", train_accs, test_accs)\n",
        "\n",
        "print(\"train loss: \", train_losses[-1])\n",
        "print(\"train accuracy: \", train_accs[-1])\n",
        "print(\"test loss: \", test_losses[-1])\n",
        "print(\"test accuracy: \", test_accs[-1])\n"
      ],
      "execution_count": 49,
      "outputs": [
        {
          "output_type": "display_data",
          "data": {
            "application/vnd.jupyter.widget-view+json": {
              "model_id": "f352653ec508406a80c262f42ea05e23",
              "version_minor": 0,
              "version_major": 2
            },
            "text/plain": [
              "HBox(children=(FloatProgress(value=0.0, max=1000.0), HTML(value='')))"
            ]
          },
          "metadata": {
            "tags": []
          }
        },
        {
          "output_type": "stream",
          "text": [
            "\n"
          ],
          "name": "stdout"
        },
        {
          "output_type": "display_data",
          "data": {
            "image/png": "[encoded data removed]",
            "text/plain": [
              "<Figure size 432x288 with 1 Axes>"
            ]
          },
          "metadata": {
            "tags": [],
            "needs_background": "light"
          }
        },
        {
          "output_type": "stream",
          "text": [
            "train loss:  0.14736939718325934\n",
            "train accuracy:  0.9208333333333333\n",
            "test loss:  0.7614786252379417\n",
            "test accuracy:  0.8350694444444444\n"
          ],
          "name": "stdout"
        }
      ]
    },
    {
      "cell_type": "markdown",
      "metadata": {
        "id": "VkcFKl5Oiwwa"
      },
      "source": [
        "### Fix the Problem\n",
        "\n",
        "That train acurracy is very unstable! Also the test accuracy just stays flat  This sort of accuracy curve is usually indicative of a badly-selected learning rate. The learning rate above is set to `1`, which would be considered a very high learning rate.\n",
        "\n",
        "\n",
        "<font color='red'>Adjust the learning rate and train the model again. Try something smaller like 1e-3.</font>"
      ]
    },
    {
      "cell_type": "markdown",
      "metadata": {
        "id": "RKKQl5-7Wv1s"
      },
      "source": [
        "### Detecting the class imbalance problem\n",
        "\n",
        "The test accuracy looks weird, it starts at 80% and then only moves to around 85%. Lets now look a bit further under the hood. By looking at the distribution of rectangle and square examples in the train and test sets."
      ]
    },
    {
      "cell_type": "code",
      "metadata": {
        "id": "Vwj35PkWh3QJ",
        "colab": {
          "base_uri": "https://localhost:8080/"
        },
        "outputId": "d092bd9e-e96f-423e-b5ac-d730e601d642"
      },
      "source": [
        "train_square_proportion = len(torch.nonzero(train_dataset.labels)) / len(train_dataset.labels)\n",
        "train_rect_proportion = 1 - train_square_proportion\n",
        "\n",
        "test_square_proportion = len(torch.nonzero(test_dataset.labels)) / len(test_dataset.labels)\n",
        "test_rect_proportion = 1 - test_square_proportion\n",
        "\n",
        "print(\"Train data - Rectangle proportion:\", \"{:.3f}\".format(train_rect_proportion), \"Square proportion:\", \"{:.3f}\".format(1- train_rect_proportion))\n",
        "print(\"Test data - Rectangle proportion:\", \"{:.3f}\".format(test_rect_proportion), \"Square proportion:\", \"{:.3f}\".format(1- test_rect_proportion))\n"
      ],
      "execution_count": 40,
      "outputs": [
        {
          "output_type": "stream",
          "text": [
            "Train data - Rectangle proportion: 0.843 Square proportion: 0.157\n",
            "Test data - Rectangle proportion: 0.800 Square proportion: 0.200\n"
          ],
          "name": "stdout"
        }
      ]
    },
    {
      "cell_type": "markdown",
      "metadata": {
        "id": "GSHRyol9kBzT"
      },
      "source": [
        "It turns out the reason the model initially got 80% accuracy was because it just always predicted rectangle no matter what input it got. Since there was 80% rectangles in the test set it got the answer correct 80% of the time. Later the model was able to sometimes predict Squares but still not often enough hence it did not move much higher than 80%. There are so many more examples of rectangles compared to squares so during backprop most of the gradients try to steer the model towards predicting rectangles. \n",
        "\n",
        "Lets take a look at the confusion matrix on the trained model to confirm our intuition that the model is predicting too many rectangles instead of squares.\n",
        "\n",
        "The first cell below contains the implementation of function used draw the confusion matrix which I copied from a file called plotcm.py from scikit-learn.org.\n",
        "\n",
        "The second cell contains the code that uses the plot_confusion_matrix function defined in the previous cell to draw our confusion matrix."
      ]
    },
    {
      "cell_type": "markdown",
      "metadata": {
        "id": "msP85Q3Il22K"
      },
      "source": [
        "Confusion matrix function definition"
      ]
    },
    {
      "cell_type": "code",
      "metadata": {
        "id": "zOod1ZyalKaQ"
      },
      "source": [
        "import itertools\n",
        "import numpy as np\n",
        "import matplotlib.pyplot as plt\n",
        "\n",
        "def plot_confusion_matrix(cm, classes, normalize=False, title='Confusion matrix', cmap=plt.cm.Blues):\n",
        "    if normalize:\n",
        "        cm = cm.astype('float') / cm.sum(axis=1)[:, np.newaxis]\n",
        "        print(\"Normalized confusion matrix\")\n",
        "    else:\n",
        "        print('Confusion matrix, without normalization')\n",
        "\n",
        "    print(cm)\n",
        "    plt.imshow(cm, interpolation='nearest', cmap=cmap)\n",
        "    plt.title(title)\n",
        "    plt.colorbar()\n",
        "    tick_marks = np.arange(len(classes))\n",
        "    plt.xticks(tick_marks, classes, rotation=45)\n",
        "    plt.yticks(tick_marks, classes)\n",
        "\n",
        "    fmt = '.2f' if normalize else 'd'\n",
        "    thresh = cm.max() / 2.\n",
        "    for i, j in itertools.product(range(cm.shape[0]), range(cm.shape[1])):\n",
        "        plt.text(j, i, format(cm[i, j], fmt), horizontalalignment=\"center\", color=\"white\" if cm[i, j] > thresh else \"black\")\n",
        "\n",
        "    plt.tight_layout()\n",
        "    plt.ylabel('True label')\n",
        "    plt.xlabel('Predicted label')"
      ],
      "execution_count": 41,
      "outputs": []
    },
    {
      "cell_type": "markdown",
      "metadata": {
        "id": "q6YSuw50l-_E"
      },
      "source": [
        "Our code to draw the confusion matrix of our model results"
      ]
    },
    {
      "cell_type": "code",
      "metadata": {
        "id": "VVOb7FhBXBoc",
        "colab": {
          "base_uri": "https://localhost:8080/",
          "height": 362
        },
        "outputId": "a4faf98e-b2b7-45d6-9e4f-361a1a5e23dc"
      },
      "source": [
        "import numpy as np\n",
        "import matplotlib.pyplot as plt\n",
        "\n",
        "from sklearn.metrics import confusion_matrix\n",
        "\n",
        "\n",
        "# Gather targets and predictions for the whole test set\n",
        "targets, predictions = [], []\n",
        "for inputs, labels in test_loader:\n",
        "    inputs, labels = inputs.to(device), labels.to(device)\n",
        "    outputs = model(inputs)\n",
        "    targets.extend(labels.detach().cpu().numpy())\n",
        "    predictions.extend(outputs.detach().cpu().numpy())\n",
        "targets = np.reshape(targets, -1).astype(int)\n",
        "predictions = np.reshape(predictions, -1)\n",
        "# we assign any prediction above or equal to 0.5 as 1 for square.\n",
        "predictions = np.where(predictions >= 0.5, 1, 0)\n",
        "cm = confusion_matrix(targets, predictions)\n",
        "plot_confusion_matrix(cm, [\"rectangle\", \"square\"])"
      ],
      "execution_count": 42,
      "outputs": [
        {
          "output_type": "stream",
          "text": [
            "Confusion matrix, without normalization\n",
            "[[73  7]\n",
            " [13  7]]\n"
          ],
          "name": "stdout"
        },
        {
          "output_type": "display_data",
          "data": {
            "image/png": "[encoded data removed]",
            "text/plain": [
              "<Figure size 432x288 with 2 Axes>"
            ]
          },
          "metadata": {
            "tags": [],
            "needs_background": "light"
          }
        }
      ]
    },
    {
      "cell_type": "markdown",
      "metadata": {
        "id": "xme8Ga6AnDOY"
      },
      "source": [
        "The bottom left and top right cells are where the predictions are different from the true labels. This result looks not too bad. It seems we are making a bit more mistakes predictions when the ground truth is squares (bottom left cell) than when the ground truth is rectangles (top right cell). But the problem looks much more obvious when we look at the next cell where we plot the normalized confusion matrix. "
      ]
    },
    {
      "cell_type": "code",
      "metadata": {
        "id": "hIEO_AAsm6lw",
        "colab": {
          "base_uri": "https://localhost:8080/",
          "height": 362
        },
        "outputId": "24d0b1c1-b956-47f6-9284-e49b87299714"
      },
      "source": [
        "# In this cell we will draw the normalized confusion matrix\n",
        "plot_confusion_matrix(cm, [\"rectangle\", \"square\"], normalize = True)\n"
      ],
      "execution_count": 43,
      "outputs": [
        {
          "output_type": "stream",
          "text": [
            "Normalized confusion matrix\n",
            "[[0.9125 0.0875]\n",
            " [0.65   0.35  ]]\n"
          ],
          "name": "stdout"
        },
        {
          "output_type": "display_data",
          "data": {
            "image/png": "[encoded data removed]",
            "text/plain": [
              "<Figure size 432x288 with 2 Axes>"
            ]
          },
          "metadata": {
            "tags": [],
            "needs_background": "light"
          }
        }
      ]
    },
    {
      "cell_type": "markdown",
      "metadata": {
        "id": "7TZ4VoxknllT"
      },
      "source": [
        "<font color=red> This result shows us a really big problem! </font> Look at the bottom left cell. It says that we wrongly predicted about 65% (you may get something between 50% to 75%) of the images that contained squares. So this really shows us our result is actually much worse than the around 85% accuracy reported earlier. We need to use a different metric that better reflects our true performance in terms of both predicting rectangles and squares. So a fairer metric that treats rectangles and squares equally.\n",
        "\n",
        "So lets turn to the unweighted average recall (UAR) metric which we discussed in lecture 4 to help us out. The UAR metric essentially assigns equal importance to correctly predicting rectangles and squares when they are present in the image. \n",
        "\n",
        "The next cell computes the UAR performance of our model on the test set.\n",
        "\n",
        "\n"
      ]
    },
    {
      "cell_type": "code",
      "metadata": {
        "id": "tCRilq5xZ86o",
        "colab": {
          "base_uri": "https://localhost:8080/"
        },
        "outputId": "89a5e203-1e0e-4b0e-981c-a12f7449d2f1"
      },
      "source": [
        "import numpy as np\n",
        "from sklearn.metrics import recall_score\n",
        "\n",
        "# Gather targets and predictions for the whole test set\n",
        "targets, predictions = [], []\n",
        "for inputs, labels in test_loader:\n",
        "    inputs, labels = inputs.to(device), labels.to(device)\n",
        "    outputs = model(inputs)\n",
        "    targets.extend(labels.detach().cpu().numpy())\n",
        "    predictions.extend(outputs.detach().cpu().numpy())\n",
        "targets = np.reshape(targets, -1).astype(int)\n",
        "predictions = np.reshape(predictions, -1)\n",
        "# we assign any prediction above or equal to 0.5 as 1 for square.\n",
        "predictions = np.where(predictions >= 0.5, 1, 0)\n",
        "\n",
        "recall_rect = recall_score(targets, predictions, average='binary', pos_label=0)\n",
        "print(\"recall for rectangles = \", recall_rect)\n",
        "recall_square = recall_score(targets, predictions, average='binary', pos_label=1)\n",
        "print(\"recall for squares = \", recall_square)\n",
        "UAR = (recall_rect + recall_square) / 2\n",
        "print(\"UAR = \", UAR)\n"
      ],
      "execution_count": 44,
      "outputs": [
        {
          "output_type": "stream",
          "text": [
            "recall for rectangles =  0.9125\n",
            "recall for squares =  0.35\n",
            "UAR =  0.63125\n"
          ],
          "name": "stdout"
        }
      ]
    },
    {
      "cell_type": "markdown",
      "metadata": {
        "id": "1g6nUfRic0tQ"
      },
      "source": [
        "Notice the recall for squares is much lower than the recall for the rectangles. The UAR (the average of the two recalls) is about 0.66 (the number you get maybe different should be mostly similar). Lets try some techniques to help balance the training."
      ]
    },
    {
      "cell_type": "markdown",
      "metadata": {
        "id": "RDcaK4vjwNMb"
      },
      "source": [
        "### Fix the Problem\n",
        "\n",
        "Now that we have a method for truly measuring the model's performance, we should fix the class imbalance.\n",
        "\n",
        "The simplest technique for correcting this is to change the proportion of examples that we present to the model. If we randomly select examples without any consideration for the imbalance, we will show the model 80% rectangles and 20% squares on average - we would like to instead show it 50% of each.\n",
        "\n",
        "PyTorch provides a class [WeightedRandomSampler](https://pytorch.org/docs/stable/data.html#torch.utils.data.WeightedRandomSampler) to help us with this. Instead of giving each example the same chance of being selected from the dataset, we can weight their selection probability - so an example with a weight of `2` is twice as likely to be selected as an example with a weight of `1`.\n",
        "\n",
        "To undo the imbalance, we choose the weights based on the proportion of examples. So if classes `A` and `B` have a 9:1 ratio in a dataset, we would need to weight class `A` by a factor of 1, and class `B` by a factor of 9.\n",
        "\n",
        "To compute this directly, the weights of a class should be $1 - p$, where $p$ is the proportion of that class in the dataset. We have already computed the proportions for each of our two classes, so we can use this equation to compute their appropriate weights.\n",
        "\n",
        "<font color='red'>In the next cell, compute the sampling weights for the two classes.</font>"
      ]
    },
    {
      "cell_type": "code",
      "metadata": {
        "id": "Uml4iiS0vKJs"
      },
      "source": [
        "# TODO: Compute the square and rectangle weights using the above equation\n",
        "square_weight = 1 - train_square_proportion\n",
        "rect_weight = 1 - train_rect_proportion\n"
      ],
      "execution_count": 45,
      "outputs": []
    },
    {
      "cell_type": "markdown",
      "metadata": {
        "id": "GuwDCend5b20"
      },
      "source": [
        "The [WeightedRandomSampler](https://pytorch.org/docs/stable/data.html#torch.utils.data.WeightedRandomSampler) class requires a weight for each example in the dataset, so we will iterate over every label in the training dataset and build a list of the correct weight. Run the next cell to do so."
      ]
    },
    {
      "cell_type": "code",
      "metadata": {
        "id": "mHULDTTE5Tx7",
        "colab": {
          "base_uri": "https://localhost:8080/"
        },
        "outputId": "0d4d4c5d-0cf8-4fe2-f744-963e35683573"
      },
      "source": [
        "weights = [square_weight if l == 1 else rect_weight for l in train_dataset.labels]\n",
        "\n",
        "# Print out the first 5 weights\n",
        "print(weights[:5])"
      ],
      "execution_count": 46,
      "outputs": [
        {
          "output_type": "stream",
          "text": [
            "[0.8433333333333333, 0.15666666666666673, 0.15666666666666673, 0.15666666666666673, 0.15666666666666673]\n"
          ],
          "name": "stdout"
        }
      ]
    },
    {
      "cell_type": "markdown",
      "metadata": {
        "id": "cJzdTi5353-3"
      },
      "source": [
        "All that's left now is to initialise the sampler and use it to create a new train dataloader.\n",
        "\n",
        "In the next cell, initialise a <font color='red'>torch.utils.data.sampler.WeightedRandomSampler</font> by providing the weights list and the length of the train dataset as arguments.\n",
        "\n",
        "If you code is correct the number of squares should be roughly half of the number of examples in the training set."
      ]
    },
    {
      "cell_type": "code",
      "metadata": {
        "id": "kT_YxAwL52wW",
        "colab": {
          "base_uri": "https://localhost:8080/"
        },
        "outputId": "0499c876-c52e-4505-ad1b-525dc00f8f60"
      },
      "source": [
        "# TODO: Initialise a WeightedRandomSampler\n",
        "sampler = torch.utils.data.sampler.WeightedRandomSampler(weights, len(train_dataset))\n",
        "\n",
        "\n",
        "train_loader = DataLoader(train_dataset, batch_size=BATCH_SIZE, sampler=sampler)\n",
        "\n",
        "total = 0\n",
        "for inputs, labels in train_loader:\n",
        "  total = total + labels.detach().cpu().numpy().sum()\n",
        "\n",
        "print(\"number of squares: \", total)\n",
        "print(\"total number of training examples:\", len(train_dataset))\n"
      ],
      "execution_count": 47,
      "outputs": [
        {
          "output_type": "stream",
          "text": [
            "number of squares:  457.0\n",
            "total number of training examples: 900\n"
          ],
          "name": "stdout"
        }
      ]
    },
    {
      "cell_type": "markdown",
      "metadata": {
        "id": "BIAq3HBQ64lM"
      },
      "source": [
        "Once you've completed the above cell, return to the \"Train the Model\" section to try it out.\n",
        "\n",
        "Once training has completed, run the cell that computes the UAR. If all goes well, the square recall should and the UAR should be higher than before as well. This is because we are showing the model balanced porportions of squares and rectangles throughout training. However, don't be too stressed it the square recall and UAR does not go higher. We have noticed there is some randomness in the results due to the small number of different square examples used during training. You may need to run again to see the benefits. The majority of the times when you rerun the training with the balanced sampler the results should be better. But you might get unlucky once or twice.\n",
        "\n",
        "Although this method is very useful for handling class imbalance, it can't perform magic - there is a limit to its efficacy. So your UAR will still not be that high. There are other ways to handle skewed distributions. \n",
        "\n"
      ]
    },
    {
      "cell_type": "markdown",
      "metadata": {
        "id": "He9ky8tsqTDp"
      },
      "source": [
        "## Use a weighted Loss Function to Address Skew\n",
        "\n",
        "There is another way to address skewed training distributions. We can increase the size of the gradients going back when training examples of the minority class. This way we can train in a more balanced way without the need to adjust the sampling rate of the two classes. \n",
        "\n",
        "It turns out the loss that we are currently using called <font color= red> torch.nn.BCEWithLogitsLoss</font> already has a parameter called <font color= red>pos_weight</font> that we can use to adjust the weighting we assign to the positive class (the class with label 1).\n",
        "\n",
        "Take a look at this documentation to work out how you can modify the loss so the minor class gets more weight :\n",
        "https://pytorch.org/docs/stable/generated/torch.nn.BCEWithLogitsLoss.html\n",
        "\n",
        "It is up to you to decide what weight to use and how to code it. Good luck! You should be able to get better results than using the balanced sampling method.\n",
        "Please note you need to go back to the old standard dataloader, not the one you modified to use the balanced sampler. So please execute the code in the next cell to reset the dataloader for the training set to the old dataloader.\n"
      ]
    },
    {
      "cell_type": "code",
      "metadata": {
        "id": "re7PcLDItF8G"
      },
      "source": [
        "# Run this code to reset the dataloader so we do not use the weighted sampler\n",
        "train_loader = DataLoader(train_dataset, batch_size=BATCH_SIZE, shuffle=True)"
      ],
      "execution_count": 48,
      "outputs": []
    },
    {
      "cell_type": "markdown",
      "metadata": {
        "id": "4wVkrtxMpuK4"
      },
      "source": [
        "## Challenge\n",
        "\n",
        "As a challenge try to change the model, learning rate, optimization algorithms, increase the number of training epochs, play around with the loss weight, etc. to see if you can improve the UAR score, and let us know the best UAR you can get! Note that due to the small number of square training examples, you might find a lot of random fluctuation in your test accuracy which makes optimization very hard, so don't spend too much time on this. You should keep a record of what you tried in an excel spreadsheet like we did in lab 3. This is a really important habit to form since people tend to forget what they tried after some time.\n",
        "\n",
        "You can also play around and see if you can optimize the accuracy of the forest cover classification problem as well. This is a much larger dataset and so produces more stable results. Also for fun you might want to see if the class distribution of this dataset is also imbalanced. If so, you want to do something about that too!\n",
        "\n",
        "Good luck! By the end of this lab you will have practiced optimizing many different neural network models across the last few labs! You are starting to turn into a neural network optimizer pro!"
      ]
    },
    {
      "cell_type": "markdown",
      "metadata": {
        "id": "2dsoZL-L7xwe"
      },
      "source": [
        "That's it for this lab - nice work! Hopefully you've learnt something about debugging neural networks. Although there are many ways in which a neural network can fail, we've now seen three of the most common problems."
      ]
    }
  ]
}